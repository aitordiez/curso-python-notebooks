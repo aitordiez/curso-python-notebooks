{
 "cells": [
  {
   "cell_type": "markdown",
   "id": "d5bd5401-dcd4-4ad1-a886-64f9715ae4f2",
   "metadata": {},
   "source": [
    "## Ejercicio 4. Colecciones Colegio"
   ]
  },
  {
   "cell_type": "markdown",
   "id": "8807a7ea-c202-43f1-8ca4-8924b998d3d1",
   "metadata": {},
   "source": [
    "Colegio 3 aulas, Inicialmente estan vacias\n",
    "\n",
    "1. Insertar alumno --> En que aula quieres meter al alumno (1,2,3) --> DNI, Nombre, Apellidos\n",
    "2. Mostrar alumnos colegio --> Todos los alumnos del colegio por aula\n",
    "3. Mostrar alumno aula --> De que aula queremos mostrar los alumnos\n",
    "4. Buscar alumno --> Preguntar DNI --> En que aula se encuentra el alumno del colegio, sino se encuentra al alumno mostrar la pantalla.\n",
    "5. Salir"
   ]
  },
  {
   "cell_type": "code",
   "execution_count": 1,
   "id": "b2e4d7b0-7e04-4d22-913f-1fe6185e4b1e",
   "metadata": {},
   "outputs": [],
   "source": [
    "def pide_datos(texto,nombre_aula = \"str\"):\n",
    "    if nombre_aula ==\"int\":\n",
    "        int(input(\"Introduce el aula\"))\n",
    "    elif nombre_aula == \"str\":\n",
    "        input(\"Introduce el dato correspondiente\")\n",
    "    else:\n",
    "        return pide_datos(texto, nombre_aula)"
   ]
  },
  {
   "cell_type": "code",
   "execution_count": 4,
   "id": "27a418f6-3d3f-4261-bd3a-b8fee4687627",
   "metadata": {},
   "outputs": [],
   "source": [
    "# Funcion para pedir al usuario el menu\n",
    "def pide_menu(menu=None):\n",
    "    if menu == None:\n",
    "        print(\"1.Insertar alumno\\n2.Mostrar alumnos colegio\\n3.Mostrar alumnos por aula\\n4.Buscar alumno por dni\\n5.Borrar alumno por dni\\n6.Salir\")        \n",
    "    return pide_datos(menu,\"int\") "
   ]
  },
  {
   "cell_type": "code",
   "execution_count": 7,
   "id": "82694d7a-8d9a-4cc8-9ed3-579da52efb88",
   "metadata": {},
   "outputs": [],
   "source": [
    "colegio = {\"Aula1\":{},\"Aula2\":{},\"Aula3\":{}}"
   ]
  },
  {
   "cell_type": "code",
   "execution_count": null,
   "id": "73326d7b-19b9-45ce-aea2-4456b6d3fa09",
   "metadata": {},
   "outputs": [],
   "source": [
    "def insertar_alumno(nombre,apellidos,dni):\n",
    "    "
   ]
  },
  {
   "cell_type": "code",
   "execution_count": 13,
   "id": "dfa1b0ac-a916-4e51-bf54-b4b91d76d7a2",
   "metadata": {},
   "outputs": [
    {
     "name": "stdout",
     "output_type": "stream",
     "text": [
      "1.Insertar alumno\n",
      "2.Mostrar alumnos colegio\n",
      "3.Mostrar alumnos por aula\n",
      "4.Buscar alumno por dni\n",
      "5.Borrar alumno por dni\n",
      "6.Salir\n"
     ]
    },
    {
     "name": "stdin",
     "output_type": "stream",
     "text": [
      "Introduce el aula 6\n"
     ]
    },
    {
     "name": "stdout",
     "output_type": "stream",
     "text": [
      "1.Insertar alumno\n",
      "2.Mostrar alumnos colegio\n",
      "3.Mostrar alumnos por aula\n",
      "4.Buscar alumno por dni\n",
      "5.Borrar alumno por dni\n",
      "6.Salir\n"
     ]
    },
    {
     "name": "stdin",
     "output_type": "stream",
     "text": [
      "Introduce el aula \n"
     ]
    },
    {
     "ename": "ValueError",
     "evalue": "invalid literal for int() with base 10: ''",
     "output_type": "error",
     "traceback": [
      "\u001b[1;31m---------------------------------------------------------------------------\u001b[0m",
      "\u001b[1;31mValueError\u001b[0m                                Traceback (most recent call last)",
      "\u001b[1;32m~\\AppData\\Local\\Temp\\ipykernel_6976\\3008456657.py\u001b[0m in \u001b[0;36m<module>\u001b[1;34m\u001b[0m\n\u001b[0;32m      3\u001b[0m \u001b[1;31m## Hago un bucle para mostrar el menu\u001b[0m\u001b[1;33m\u001b[0m\u001b[1;33m\u001b[0m\u001b[0m\n\u001b[0;32m      4\u001b[0m \u001b[1;32mwhile\u001b[0m \u001b[1;32mnot\u001b[0m \u001b[0msalir\u001b[0m\u001b[1;33m:\u001b[0m\u001b[1;33m\u001b[0m\u001b[1;33m\u001b[0m\u001b[0m\n\u001b[1;32m----> 5\u001b[1;33m     \u001b[0mopcion\u001b[0m \u001b[1;33m=\u001b[0m \u001b[0mpide_menu\u001b[0m\u001b[1;33m(\u001b[0m\u001b[1;33m)\u001b[0m\u001b[1;33m\u001b[0m\u001b[1;33m\u001b[0m\u001b[0m\n\u001b[0m\u001b[0;32m      6\u001b[0m     \u001b[1;32mif\u001b[0m \u001b[1;33m(\u001b[0m\u001b[0mopcion\u001b[0m \u001b[1;33m==\u001b[0m \u001b[1;36m6\u001b[0m\u001b[1;33m)\u001b[0m\u001b[1;33m:\u001b[0m\u001b[1;33m\u001b[0m\u001b[1;33m\u001b[0m\u001b[0m\n\u001b[0;32m      7\u001b[0m         \u001b[0mprint\u001b[0m\u001b[1;33m(\u001b[0m\u001b[1;34m\"Adios\"\u001b[0m\u001b[1;33m)\u001b[0m\u001b[1;33m\u001b[0m\u001b[1;33m\u001b[0m\u001b[0m\n",
      "\u001b[1;32m~\\AppData\\Local\\Temp\\ipykernel_6976\\1435156276.py\u001b[0m in \u001b[0;36mpide_menu\u001b[1;34m(menu)\u001b[0m\n\u001b[0;32m      3\u001b[0m     \u001b[1;32mif\u001b[0m \u001b[0mmenu\u001b[0m \u001b[1;33m==\u001b[0m \u001b[1;32mNone\u001b[0m\u001b[1;33m:\u001b[0m\u001b[1;33m\u001b[0m\u001b[1;33m\u001b[0m\u001b[0m\n\u001b[0;32m      4\u001b[0m         \u001b[0mprint\u001b[0m\u001b[1;33m(\u001b[0m\u001b[1;34m\"1.Insertar alumno\\n2.Mostrar alumnos colegio\\n3.Mostrar alumnos por aula\\n4.Buscar alumno por dni\\n5.Borrar alumno por dni\\n6.Salir\"\u001b[0m\u001b[1;33m)\u001b[0m\u001b[1;33m\u001b[0m\u001b[1;33m\u001b[0m\u001b[0m\n\u001b[1;32m----> 5\u001b[1;33m     \u001b[1;32mreturn\u001b[0m \u001b[0mpide_datos\u001b[0m\u001b[1;33m(\u001b[0m\u001b[0mmenu\u001b[0m\u001b[1;33m,\u001b[0m\u001b[1;34m\"int\"\u001b[0m\u001b[1;33m)\u001b[0m\u001b[1;33m\u001b[0m\u001b[1;33m\u001b[0m\u001b[0m\n\u001b[0m",
      "\u001b[1;32m~\\AppData\\Local\\Temp\\ipykernel_6976\\3663520599.py\u001b[0m in \u001b[0;36mpide_datos\u001b[1;34m(texto, nombre_aula)\u001b[0m\n\u001b[0;32m      1\u001b[0m \u001b[1;32mdef\u001b[0m \u001b[0mpide_datos\u001b[0m\u001b[1;33m(\u001b[0m\u001b[0mtexto\u001b[0m\u001b[1;33m,\u001b[0m\u001b[0mnombre_aula\u001b[0m \u001b[1;33m=\u001b[0m \u001b[1;34m\"str\"\u001b[0m\u001b[1;33m)\u001b[0m\u001b[1;33m:\u001b[0m\u001b[1;33m\u001b[0m\u001b[1;33m\u001b[0m\u001b[0m\n\u001b[0;32m      2\u001b[0m     \u001b[1;32mif\u001b[0m \u001b[0mnombre_aula\u001b[0m \u001b[1;33m==\u001b[0m\u001b[1;34m\"int\"\u001b[0m\u001b[1;33m:\u001b[0m\u001b[1;33m\u001b[0m\u001b[1;33m\u001b[0m\u001b[0m\n\u001b[1;32m----> 3\u001b[1;33m         \u001b[0mint\u001b[0m\u001b[1;33m(\u001b[0m\u001b[0minput\u001b[0m\u001b[1;33m(\u001b[0m\u001b[1;34m\"Introduce el aula\"\u001b[0m\u001b[1;33m)\u001b[0m\u001b[1;33m)\u001b[0m\u001b[1;33m\u001b[0m\u001b[1;33m\u001b[0m\u001b[0m\n\u001b[0m\u001b[0;32m      4\u001b[0m     \u001b[1;32melif\u001b[0m \u001b[0mnombre_aula\u001b[0m \u001b[1;33m==\u001b[0m \u001b[1;34m\"str\"\u001b[0m\u001b[1;33m:\u001b[0m\u001b[1;33m\u001b[0m\u001b[1;33m\u001b[0m\u001b[0m\n\u001b[0;32m      5\u001b[0m         \u001b[0minput\u001b[0m\u001b[1;33m(\u001b[0m\u001b[1;34m\"Introduce el dato correspondiente\"\u001b[0m\u001b[1;33m)\u001b[0m\u001b[1;33m\u001b[0m\u001b[1;33m\u001b[0m\u001b[0m\n",
      "\u001b[1;31mValueError\u001b[0m: invalid literal for int() with base 10: ''"
     ]
    }
   ],
   "source": [
    "salir = False\n",
    "opcion = 0\n",
    "## Hago un bucle para mostrar el menu\n",
    "while not salir:\n",
    "    opcion = pide_menu()\n",
    "    if (opcion == 6):\n",
    "        print(\"Adios\")\n",
    "        salir = True"
   ]
  },
  {
   "cell_type": "code",
   "execution_count": null,
   "id": "e8a97405-e2f8-40e0-8a24-613b4efd3bb4",
   "metadata": {},
   "outputs": [],
   "source": [
    "        "
   ]
  },
  {
   "cell_type": "code",
   "execution_count": null,
   "id": "055f0b89-9cd8-4854-ab47-7e16e3901fe5",
   "metadata": {},
   "outputs": [],
   "source": []
  },
  {
   "cell_type": "code",
   "execution_count": null,
   "id": "8776d2e8-2ad8-4244-99e0-80fb44a86bfe",
   "metadata": {},
   "outputs": [],
   "source": []
  }
 ],
 "metadata": {
  "kernelspec": {
   "display_name": "Python 3 (ipykernel)",
   "language": "python",
   "name": "python3"
  },
  "language_info": {
   "codemirror_mode": {
    "name": "ipython",
    "version": 3
   },
   "file_extension": ".py",
   "mimetype": "text/x-python",
   "name": "python",
   "nbconvert_exporter": "python",
   "pygments_lexer": "ipython3",
   "version": "3.9.13"
  }
 },
 "nbformat": 4,
 "nbformat_minor": 5
}
