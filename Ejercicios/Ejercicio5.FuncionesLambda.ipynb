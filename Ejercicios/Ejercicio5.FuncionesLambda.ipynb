{
 "cells": [
  {
   "cell_type": "markdown",
   "metadata": {},
   "source": [
    "## Ejercicio5. Funciones Lambda"
   ]
  },
  {
   "cell_type": "markdown",
   "metadata": {},
   "source": [
    "A partir del siguiente listado de emails:\n",
    "lista_emails = [\"asdasdas.es\",\"asdasasdsdsa@sda.es\",\"asdasd@asdas@asdsad.es\", \"asdad@a.es\", \"a sgsdfsd@a.esfa.sfasdf\", \"asdas.dasd@as.dsfd.as.es \"]\n",
    "- obtener, los nombres de usuario de aquellos emails que sean validos (valido: 1@, no tiene espacios en blanco, despues de la @ hay 1 punto)\n",
    "- indicar el número de emails validos que hay dentro del listado\n"
   ]
  },
  {
   "cell_type": "code",
   "execution_count": null,
   "metadata": {},
   "outputs": [],
   "source": [
    "from functools import reduce\n",
    "\n",
    "lista_emails = [\"asdasdas.es\",\"asdas asdsdsa@sda.e\",\"asdasd@asdas@asdsad.es\", \"asdad@a.es\", \"a sgsdfsd@a.esfa.sfasdf\", \"asdas.dasd@as.dsfd.as.es \"]\n",
    "# Funcion Lambda para filtrar  los nombres de los usuarios de aquellos emails que sean validos\n",
    "list_email =list(filter(lambda usuario: usuario.count(\".\") == 1 and usuario.count(\"@\") == 1 and usuario.count(\" \") == 0,lista_emails))\n",
    "\n",
    "# Funcion Lambda para modificar aquellos emails que son validos para que solo muestren el usuario\n",
    "resultado = list(map(lambda usuarios: usuarios[:usuarios.index(\"@\")],list_email))\n",
    "print(f'Los nombres de los usuarios que son validos son: {resultado}')\n",
    "\n",
    "# Funcion Lambda para mostrar el numero de emails validos del listado \n",
    "resultado_numero_emails = reduce(lambda x,b: x,list_email)\n",
    "print(f'Listado de emails validos son: {len(list_email)} | El email correcto es: {resultado_numero_emails}')"
   ]
  },
  {
   "cell_type": "code",
   "execution_count": null,
   "metadata": {},
   "outputs": [],
   "source": []
  },
  {
   "cell_type": "code",
   "execution_count": null,
   "metadata": {},
   "outputs": [],
   "source": []
  }
 ],
 "metadata": {
  "kernelspec": {
   "display_name": "Python 3 (ipykernel)",
   "language": "python",
   "name": "python3"
  },
  "language_info": {
   "codemirror_mode": {
    "name": "ipython",
    "version": 3
   },
   "file_extension": ".py",
   "mimetype": "text/x-python",
   "name": "python",
   "nbconvert_exporter": "python",
   "pygments_lexer": "ipython3",
   "version": "3.9.13"
  }
 },
 "nbformat": 4,
 "nbformat_minor": 4
}
