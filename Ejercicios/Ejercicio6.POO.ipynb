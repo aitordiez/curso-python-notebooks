{
 "cells": [
  {
   "cell_type": "markdown",
   "metadata": {},
   "source": [
    "# Ejercicio 6. Programacion Orientada Objetos"
   ]
  },
  {
   "cell_type": "markdown",
   "metadata": {
    "tags": []
   },
   "source": [
    "**Crear la clase Alumno**  \n",
    "-nombre  \n",
    "-apellidos  \n",
    "-dni  \n",
    "-notas: diccionario <K:asignatura, V:nota>  \n",
    "estudiar() --> el alumno \"nombre\" esta estudiando \"asignatura obtenida de manera aleatoria del diccionario\"  \n",
    "    \n",
    "**Funcionalidad**    \n",
    "3 alumnos --> lista -->  \n",
    "    +Nota media de cada alumno --> El alumno <nombre> tiene una nota media de ...  \n",
    "    +Nota media de todos los alumnos --> La nota media de todos los alumnos es ...\n",
    "   \n",
    "Tradicional y usando funciones lambda\n"
   ]
  },
  {
   "cell_type": "code",
   "execution_count": 23,
   "metadata": {
    "tags": []
   },
   "outputs": [
    {
     "name": "stdout",
     "output_type": "stream",
     "text": [
      "El alumno Aitor esta estudiando la asignatura de: Fisica\n",
      "-----------------------------------------\n",
      "El alumno Francisco esta estudiando la asignatura de: Matematicas\n",
      "-----------------------------------------\n",
      "El alumno Leo esta estudiando la asignatura de: Programacion\n",
      "-----------------------------------------\n",
      "El alumno Aitor tiene una nota media de:  5.666666666666667\n",
      "El alumno Francisco tiene una nota media de:  3.3333333333333335\n",
      "El alumno Leo tiene una nota media de:  3.6666666666666665\n",
      "-----------------------------------------\n",
      "Los alumnos tienen una media de:  12.666666666666666\n",
      "-----------------------------------------\n",
      "El alumno Aitor esta estudiando la asignatura de: Fisica\n",
      "El alumno Francisco esta estudiando la asignatura de: Programacion\n",
      "El alumno Leo esta estudiando la asignatura de: Programacion\n",
      "-----------------------------------------\n",
      "El alumno Aitor tiene una nota media de:  5.666666666666667\n",
      "El alumno Francisco tiene una nota media de:  3.3333333333333335\n",
      "El alumno Leo tiene una nota media de:  3.6666666666666665\n",
      "-----------------------------------------\n",
      "El alumno Aitor tiene una nota media de:  5.666666666666667\n",
      "El alumno Francisco tiene una nota media de:  3.3333333333333335\n",
      "El alumno Leo tiene una nota media de:  3.6666666666666665\n",
      "-----------------------------------------\n",
      "El alumno Aitor tiene una nota media de:  5.666666666666667\n",
      "El alumno Francisco tiene una nota media de:  3.3333333333333335\n",
      "El alumno Leo tiene una nota media de:  3.6666666666666665\n",
      "-----------------------------------------\n",
      "Los alumnos tienen una media de:  12.666666666666666\n",
      "-----------------------------------------\n"
     ]
    }
   ],
   "source": [
    "import random\n",
    "from functools import reduce\n",
    "\n",
    "class Alumno():\n",
    "    # Constructor\n",
    "    def __init__(self,nombre,apellidos,dni,notas = {}):\n",
    "        self.nombre = nombre\n",
    "        self.apellidos = apellidos\n",
    "        self.dni = dni\n",
    "        self.notas = notas\n",
    "    # Metodo para hacer estudiar a los alumnos    \n",
    "    def estudiar(self):\n",
    "        asignatura = list(self.notas.keys())\n",
    "        aleatorio = random.choice(list(asignatura))\n",
    "        print(\"El alumno \"+ self.nombre + \" esta estudiando la asignatura de: \" + aleatorio)\n",
    "        \n",
    "# Llamadas para hacer estudiar a los alumnos y crear a los alumnos.            \n",
    "alumno1 = Alumno(\"Aitor\",\"Diez\",\"52369741\",{\"Matematicas\":random.randint(1,10),\"Programacion\":random.randint(1,10),\"Fisica\":random.randint(1,10)})\n",
    "alumno1.estudiar()\n",
    "print(\"-----------------------------------------\")\n",
    "alumno2 = Alumno(\"Francisco\",\"Diez\",\"204963\",{\"Matematicas\":random.randint(1,10),\"Programacion\":random.randint(1,10),\"Fisica\":random.randint(1,10)})\n",
    "alumno2.estudiar()\n",
    "print(\"-----------------------------------------\")\n",
    "alumno3 = Alumno(\"Leo\",\"Fernandez\",\"20489647\",{\"Matematicas\":random.randint(1,10),\"Programacion\":random.randint(1,10),\"Fisica\":random.randint(1,10)})\n",
    "alumno3.estudiar()\n",
    "print(\"-----------------------------------------\")\n",
    "\n",
    "# Array donde se inserta a los alumnos\n",
    "lista_alumnos = [alumno1,alumno2,alumno3]\n",
    "\n",
    "# Funcion Lambda para mostrar la nota media de cada los alumnos\n",
    "def nota_media_por_alumno():\n",
    "    for x in range(3):\n",
    "        print(\"El alumno \" + lista_alumnos[x].nombre + \" tiene una nota media de: \" ,sum(lista_alumnos[x].notas.values()) / len(lista_alumnos[x].notas.values()))\n",
    "    print(\"-----------------------------------------\")    \n",
    "nota_media_por_alumno()\n",
    "\n",
    "# Funcion para mostrar la nota media de todos los alumnos\n",
    "def nota_media_total_alumno():\n",
    "    nombre = 0\n",
    "    promedio = 0\n",
    "    for z in range(len(lista_alumnos)):\n",
    "        for clave,valor in lista_alumnos[z].notas.items():\n",
    "            nombre = nombre + valor       \n",
    "        promedio = nombre / len(lista_alumnos[z].notas.values())        \n",
    "    print(\"Los alumnos tienen una media de: \", promedio) \n",
    "    print(\"-----------------------------------------\")\n",
    "nota_media_total_alumno() \n",
    "\n",
    "# Funcion Lambda para mostrar el alumnno que esta estudiando\n",
    "list(map( lambda alumno : alumno.estudiar() , lista_alumnos))\n",
    "print(\"-----------------------------------------\")\n",
    "\n",
    "# Funcion Lambda para mostrar la nota media de cada los alumnos\n",
    "filtro1 = list(filter(lambda x : nota_media_por_alumno(),lista_alumnos))\n",
    "\n",
    "# Funcion Lambda para mostrar la nota media de todos los alumnos\n",
    "filtro2 = list(filter(lambda x : nota_media_total_alumno(),range(1)))"
   ]
  },
  {
   "cell_type": "code",
   "execution_count": null,
   "metadata": {},
   "outputs": [],
   "source": []
  },
  {
   "cell_type": "code",
   "execution_count": null,
   "metadata": {},
   "outputs": [],
   "source": []
  },
  {
   "cell_type": "code",
   "execution_count": null,
   "metadata": {},
   "outputs": [],
   "source": []
  }
 ],
 "metadata": {
  "kernelspec": {
   "display_name": "Python 3 (ipykernel)",
   "language": "python",
   "name": "python3"
  },
  "language_info": {
   "codemirror_mode": {
    "name": "ipython",
    "version": 3
   },
   "file_extension": ".py",
   "mimetype": "text/x-python",
   "name": "python",
   "nbconvert_exporter": "python",
   "pygments_lexer": "ipython3",
   "version": "3.9.13"
  }
 },
 "nbformat": 4,
 "nbformat_minor": 4
}
