{
 "cells": [
  {
   "cell_type": "markdown",
   "metadata": {},
   "source": [
    "# Ejercicio 6. Programacion Orientada Objetos"
   ]
  },
  {
   "cell_type": "markdown",
   "metadata": {
    "tags": []
   },
   "source": [
    "**Crear la clase Alumno**  \n",
    "-nombre  \n",
    "-apellidos  \n",
    "-dni  \n",
    "-notas: diccionario <K:asignatura, V:nota>  \n",
    "estudiar() --> el alumno \"nombre\" esta estudiando \"asignatura obtenida de manera aleatoria del diccionario\"  \n",
    "    \n",
    "**Funcionalidad**    \n",
    "3 alumnos --> lista -->  \n",
    "    +Nota media de cada alumno --> El alumno <nombre> tiene una nota media de ...  \n",
    "    +Nota media de todos los alumnos --> La nota media de todos los alumnos es ...\n",
    "   \n",
    "Tradicional y usando funciones lambda\n"
   ]
  },
  {
   "cell_type": "code",
   "execution_count": 2,
   "metadata": {
    "tags": []
   },
   "outputs": [
    {
     "name": "stdout",
     "output_type": "stream",
     "text": [
      "El alumno Aitor esta estudiando la asignatura de: Programacion\n",
      "El alumno Francisco esta estudiando la asignatura de: Programacion\n",
      "El alumno Leo esta estudiando la asignatura de: Fisica\n",
      "['Aitor', dict_values([10, 8, 7]), 'Francisco', dict_values([10, 8, 8]), 'Leo', dict_values([10, 8, 4])]\n"
     ]
    }
   ],
   "source": [
    "import random\n",
    "class Alumno():\n",
    "    def __init__(self,nombre,apellidos,dni,notas = {}):\n",
    "        self.nombre = nombre\n",
    "        self.apellidos = apellidos\n",
    "        self.dni = dni\n",
    "        self.notas = notas\n",
    "    def estudiar(self):\n",
    "        asignatura = list(self.notas.keys())\n",
    "        aleatorio = random.choice(list(asignatura))\n",
    "        print(\"El alumno \"+ self.nombre + \" esta estudiando la asignatura de: \" + aleatorio)\n",
    "            \n",
    "alumno1 = Alumno(\"Aitor\",\"Diez\",\"52369741\",{\"Matematicas\":10,\"Programacion\":8,\"Fisica\":7})\n",
    "alumno1.estudiar()\n",
    "\n",
    "alumno2 = Alumno(\"Francisco\",\"Diez\",\"204963\",{\"Matematicas\":10,\"Programacion\":8,\"Fisica\":8})\n",
    "alumno2.estudiar()\n",
    "\n",
    "alumno3 = Alumno(\"Leo\",\"Fernandez\",\"20489647\",{\"Matematicas\":10,\"Programacion\":8,\"Fisica\":4})\n",
    "alumno3.estudiar()\n",
    "lista_alumnos = []\n",
    "lista_alumnos.append(alumno1.nombre)\n",
    "lista_alumnos.append(alumno1.notas.values())\n",
    "\n",
    "lista_alumnos.append(alumno2.nombre)\n",
    "lista_alumnos.append(alumno2.notas.values())\n",
    "\n",
    "lista_alumnos.append(alumno3.nombre)\n",
    "lista_alumnos.append(alumno3.notas.values())\n",
    "\n",
    "    \n",
    "\n",
    "\n"
   ]
  },
  {
   "cell_type": "code",
   "execution_count": null,
   "metadata": {},
   "outputs": [],
   "source": []
  },
  {
   "cell_type": "code",
   "execution_count": null,
   "metadata": {},
   "outputs": [],
   "source": []
  }
 ],
 "metadata": {
  "kernelspec": {
   "display_name": "Python 3 (ipykernel)",
   "language": "python",
   "name": "python3"
  },
  "language_info": {
   "codemirror_mode": {
    "name": "ipython",
    "version": 3
   },
   "file_extension": ".py",
   "mimetype": "text/x-python",
   "name": "python",
   "nbconvert_exporter": "python",
   "pygments_lexer": "ipython3",
   "version": "3.9.13"
  }
 },
 "nbformat": 4,
 "nbformat_minor": 4
}
