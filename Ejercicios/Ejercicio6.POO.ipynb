{
 "cells": [
  {
   "cell_type": "markdown",
   "metadata": {},
   "source": [
    "# Ejercicio 6. Programacion Orientada Objetos"
   ]
  },
  {
   "cell_type": "markdown",
   "metadata": {
    "tags": []
   },
   "source": [
    "**Crear la clase Alumno**  \n",
    "-nombre  \n",
    "-apellidos  \n",
    "-dni  \n",
    "-notas: diccionario <K:asignatura, V:nota>  \n",
    "estudiar() --> el alumno \"nombre\" esta estudiando \"asignatura obtenida de manera aleatoria del diccionario\"  \n",
    "    \n",
    "**Funcionalidad**    \n",
    "3 alumnos --> lista -->  \n",
    "    +Nota media de cada alumno --> El alumno <nombre> tiene una nota media de ...  \n",
    "    +Nota media de todos los alumnos --> La nota media de todos los alumnos es ...\n",
    "   \n",
    "Tradicional y usando funciones lambda\n"
   ]
  },
  {
   "cell_type": "code",
   "execution_count": null,
   "metadata": {
    "tags": []
   },
   "outputs": [],
   "source": [
    "import random\n",
    "from functools import reduce\n",
    "class Alumno():\n",
    "    def __init__(self,nombre,apellidos,dni,notas = {}):\n",
    "        self.nombre = nombre\n",
    "        self.apellidos = apellidos\n",
    "        self.dni = dni\n",
    "        self.notas = notas\n",
    "    def estudiar(self):\n",
    "        asignatura = list(self.notas.keys())\n",
    "        aleatorio = random.choice(list(asignatura))\n",
    "        print(\"El alumno \"+ self.nombre + \" esta estudiando la asignatura de: \" + aleatorio)\n",
    "            \n",
    "alumno1 = Alumno(\"Aitor\",\"Diez\",\"52369741\",{\"Matematicas\":random.randint(1,10),\"Programacion\":random.randint(1,10),\"Fisica\":random.randint(1,10)})\n",
    "alumno1.estudiar()\n",
    "\n",
    "alumno2 = Alumno(\"Francisco\",\"Diez\",\"204963\",{\"Matematicas\":random.randint(1,10),\"Programacion\":random.randint(1,10),\"Fisica\":random.randint(1,10)})\n",
    "alumno2.estudiar()\n",
    "\n",
    "alumno3 = Alumno(\"Leo\",\"Fernandez\",\"20489647\",{\"Matematicas\":random.randint(1,10),\"Programacion\":random.randint(1,10),\"Fisica\":random.randint(1,10)})\n",
    "alumno3.estudiar()\n",
    "lista_alumnos = [alumno1,alumno2,alumno3]\n",
    "\n",
    "def nota_media_por_alumno():\n",
    "    for x in range(3):\n",
    "        print(sum(lista_alumnos[x].notas.values()) / len(lista_alumnos))\n",
    "nota_media_por_alumno()\n",
    "\n",
    "def nota_media_total_alumno():\n",
    "    nombre = 0\n",
    "    promedio = 0\n",
    "    for z in range(len(lista_alumnos)):\n",
    "        for clave,valor in lista_alumnos[z].notas.items():\n",
    "            print(valor)\n",
    "            nombre = nombre + valor       \n",
    "    promedio = nombre / 9        \n",
    "    print(\"El resultado es: \", promedio)        \n",
    "nota_media_total_alumno() \n",
    "\n",
    "filtro = list(filter(lambda x : lista_alumnos[x].notas,range(3)))\n",
    "print(filtro)"
   ]
  },
  {
   "cell_type": "code",
   "execution_count": null,
   "metadata": {},
   "outputs": [],
   "source": []
  },
  {
   "cell_type": "code",
   "execution_count": null,
   "metadata": {},
   "outputs": [],
   "source": []
  },
  {
   "cell_type": "code",
   "execution_count": null,
   "metadata": {},
   "outputs": [],
   "source": []
  }
 ],
 "metadata": {
  "kernelspec": {
   "display_name": "Python 3 (ipykernel)",
   "language": "python",
   "name": "python3"
  },
  "language_info": {
   "codemirror_mode": {
    "name": "ipython",
    "version": 3
   },
   "file_extension": ".py",
   "mimetype": "text/x-python",
   "name": "python",
   "nbconvert_exporter": "python",
   "pygments_lexer": "ipython3",
   "version": "3.9.13"
  }
 },
 "nbformat": 4,
 "nbformat_minor": 4
}
