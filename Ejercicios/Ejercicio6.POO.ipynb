{
 "cells": [
  {
   "cell_type": "markdown",
   "metadata": {},
   "source": [
    "# Ejercicio 6. Programacion Orientada Objetos"
   ]
  },
  {
   "cell_type": "markdown",
   "metadata": {
    "tags": []
   },
   "source": [
    "**Crear la clase Alumno**  \n",
    "-nombre  \n",
    "-apellidos  \n",
    "-dni  \n",
    "-notas: diccionario <K:asignatura, V:nota>  \n",
    "estudiar() --> el alumno \"nombre\" esta estudiando \"asignatura obtenida de manera aleatoria del diccionario\"  \n",
    "    \n",
    "**Funcionalidad**    \n",
    "3 alumnos --> lista -->  \n",
    "    +Nota media de cada alumno --> El alumno <nombre> tiene una nota media de ...  \n",
    "    +Nota media de todos los alumnos --> La nota media de todos los alumnos es ...\n",
    "   \n",
    "Tradicional y usando funciones lambda\n"
   ]
  },
  {
   "cell_type": "code",
   "execution_count": 6,
   "metadata": {
    "tags": []
   },
   "outputs": [
    {
     "name": "stdout",
     "output_type": "stream",
     "text": [
      "El alumno Aitor esta estudiando la asignatura de: Programacion\n",
      "-----------------------------------------\n",
      "El alumno Francisco esta estudiando la asignatura de: Programacion\n",
      "-----------------------------------------\n",
      "El alumno Leo esta estudiando la asignatura de: Matematicas\n",
      "-----------------------------------------\n",
      "El alumno Aitor tiene una nota media de:  5.333333333333333\n",
      "El alumno Francisco tiene una nota media de:  2.6666666666666665\n",
      "El alumno Leo tiene una nota media de:  7.0\n",
      "-----------------------------------------\n",
      "Los alumnos tienen una media de:  5.0\n",
      "-----------------------------------------\n",
      " El alumno Aitor tiene una nota media de:  5.333333333333333\n",
      " El alumno Francisco tiene una nota media de:  2.6666666666666665\n",
      " El alumno Leo tiene una nota media de:  7.0\n",
      "-----------------------------------------\n"
     ]
    }
   ],
   "source": [
    "import random\n",
    "from functools import reduce\n",
    "class Alumno():\n",
    "    def __init__(self,nombre,apellidos,dni,notas = {}):\n",
    "        self.nombre = nombre\n",
    "        self.apellidos = apellidos\n",
    "        self.dni = dni\n",
    "        self.notas = notas\n",
    "    def estudiar(self):\n",
    "        asignatura = list(self.notas.keys())\n",
    "        aleatorio = random.choice(list(asignatura))\n",
    "        print(\"El alumno \"+ self.nombre + \" esta estudiando la asignatura de: \" + aleatorio)\n",
    "            \n",
    "alumno1 = Alumno(\"Aitor\",\"Diez\",\"52369741\",{\"Matematicas\":random.randint(1,10),\"Programacion\":random.randint(1,10),\"Fisica\":random.randint(1,10)})\n",
    "alumno1.estudiar()\n",
    "print(\"-----------------------------------------\")\n",
    "alumno2 = Alumno(\"Francisco\",\"Diez\",\"204963\",{\"Matematicas\":random.randint(1,10),\"Programacion\":random.randint(1,10),\"Fisica\":random.randint(1,10)})\n",
    "alumno2.estudiar()\n",
    "print(\"-----------------------------------------\")\n",
    "alumno3 = Alumno(\"Leo\",\"Fernandez\",\"20489647\",{\"Matematicas\":random.randint(1,10),\"Programacion\":random.randint(1,10),\"Fisica\":random.randint(1,10)})\n",
    "alumno3.estudiar()\n",
    "print(\"-----------------------------------------\")\n",
    "\n",
    "lista_alumnos = [alumno1,alumno2,alumno3]\n",
    "\n",
    "def nota_media_por_alumno():\n",
    "    for x in range(3):\n",
    "        print(\"El alumno \" + lista_alumnos[x].nombre + \" tiene una nota media de: \" ,sum(lista_alumnos[x].notas.values()) / len(lista_alumnos))\n",
    "    print(\"-----------------------------------------\")    \n",
    "nota_media_por_alumno()\n",
    "\n",
    "def nota_media_total_alumno():\n",
    "    nombre = 0\n",
    "    promedio = 0\n",
    "    for z in range(len(lista_alumnos)):\n",
    "        for clave,valor in lista_alumnos[z].notas.items():\n",
    "            nombre = nombre + valor       \n",
    "    promedio = nombre / 9        \n",
    "    print(\"Los alumnos tienen una media de: \", promedio) \n",
    "    print(\"-----------------------------------------\")\n",
    "nota_media_total_alumno() \n",
    "\n",
    "filtro = list(filter(lambda x : print(\" El alumno \" + lista_alumnos[x].nombre + \" tiene una nota media de: \",sum(lista_alumnos[x].notas.values()) / len(lista_alumnos)),range(3)))\n",
    "print(\"-----------------------------------------\")\n"
   ]
  },
  {
   "cell_type": "code",
   "execution_count": null,
   "metadata": {},
   "outputs": [],
   "source": []
  },
  {
   "cell_type": "code",
   "execution_count": null,
   "metadata": {},
   "outputs": [],
   "source": []
  },
  {
   "cell_type": "code",
   "execution_count": null,
   "metadata": {},
   "outputs": [],
   "source": []
  }
 ],
 "metadata": {
  "kernelspec": {
   "display_name": "Python 3 (ipykernel)",
   "language": "python",
   "name": "python3"
  },
  "language_info": {
   "codemirror_mode": {
    "name": "ipython",
    "version": 3
   },
   "file_extension": ".py",
   "mimetype": "text/x-python",
   "name": "python",
   "nbconvert_exporter": "python",
   "pygments_lexer": "ipython3",
   "version": "3.9.13"
  }
 },
 "nbformat": 4,
 "nbformat_minor": 4
}
