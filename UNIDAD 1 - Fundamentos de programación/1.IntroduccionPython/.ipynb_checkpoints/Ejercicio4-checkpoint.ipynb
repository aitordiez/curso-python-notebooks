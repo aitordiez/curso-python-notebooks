{
 "cells": [
  {
   "cell_type": "markdown",
   "id": "d5bd5401-dcd4-4ad1-a886-64f9715ae4f2",
   "metadata": {},
   "source": [
    "## Ejercicio 4. Colecciones Colegio"
   ]
  },
  {
   "cell_type": "markdown",
   "id": "8807a7ea-c202-43f1-8ca4-8924b998d3d1",
   "metadata": {},
   "source": [
    "Colegio 3 aulas, Inicialmente estan vacias\n",
    "\n",
    "1. Insertar alumno --> En que aula quieres meter al alumno (1,2,3) --> DNI, Nombre, Apellidos\n",
    "2. Mostrar alumnos colegio --> Todos los alumnos del colegio por aula\n",
    "3. Mostrar alumno aula --> De que aula queremos mostrar los alumnos\n",
    "4. Buscar alumno --> Preguntar DNI --> En que aula se encuentra el alumno del colegio, sino se encuentra al alumno mostrar la pantalla.\n",
    "5. Salir"
   ]
  },
  {
   "cell_type": "code",
   "execution_count": 2,
   "id": "27a418f6-3d3f-4261-bd3a-b8fee4687627",
   "metadata": {},
   "outputs": [
    {
     "name": "stdin",
     "output_type": "stream",
     "text": [
      "Seleccione una opcion:  1\n"
     ]
    },
    {
     "name": "stdout",
     "output_type": "stream",
     "text": [
      "1.  Insertar alumno --> En que aula quieres meter al alumno (1,2,3) --> DNI, Nombre, Apellidos\n",
      "2. Mostrar alumnos colegio --> Todos los alumnos del colegio por aula\n",
      "3. Mostrar alumno aula --> De que aula queremos mostrar los alumnos\n",
      "4. Buscar alumno --> Preguntar DNI --> En que aula se encuentra el alumno del colegio, sino se encuentra al alumno mostrar la pantalla.\n",
      "5. Salir\n"
     ]
    },
    {
     "name": "stdin",
     "output_type": "stream",
     "text": [
      "En que aula quieres meter al alumno 1\n",
      "Introduce el nombre del alumno Aitor\n",
      "Introduce el apellido del alumno Diez\n",
      "Introduce el dni del alumno 20306987\n",
      "Seleccione una opcion:  1\n"
     ]
    },
    {
     "name": "stdout",
     "output_type": "stream",
     "text": [
      "1.  Insertar alumno --> En que aula quieres meter al alumno (1,2,3) --> DNI, Nombre, Apellidos\n",
      "2. Mostrar alumnos colegio --> Todos los alumnos del colegio por aula\n",
      "3. Mostrar alumno aula --> De que aula queremos mostrar los alumnos\n",
      "4. Buscar alumno --> Preguntar DNI --> En que aula se encuentra el alumno del colegio, sino se encuentra al alumno mostrar la pantalla.\n",
      "5. Salir\n"
     ]
    },
    {
     "name": "stdin",
     "output_type": "stream",
     "text": [
      "En que aula quieres meter al alumno 1\n",
      "Introduce el nombre del alumno Luz\n",
      "Introduce el apellido del alumno Fernandez\n",
      "Introduce el dni del alumno 50246930\n",
      "Seleccione una opcion:  2\n"
     ]
    },
    {
     "name": "stdout",
     "output_type": "stream",
     "text": [
      "1.  Insertar alumno --> En que aula quieres meter al alumno (1,2,3) --> DNI, Nombre, Apellidos\n",
      "2. Mostrar alumnos colegio --> Todos los alumnos del colegio por aula\n",
      "3. Mostrar alumno aula --> De que aula queremos mostrar los alumnos\n",
      "4. Buscar alumno --> Preguntar DNI --> En que aula se encuentra el alumno del colegio, sino se encuentra al alumno mostrar la pantalla.\n",
      "5. Salir\n",
      "El numero de la aula es: 1 El nombre del alumno es: Aitor El apellido del alumno es: Diez\n",
      "El numero de la aula es: 1 El nombre del alumno es: Luz El apellido del alumno es: Fernandez\n"
     ]
    },
    {
     "name": "stdin",
     "output_type": "stream",
     "text": [
      "Seleccione una opcion:  3\n"
     ]
    },
    {
     "name": "stdout",
     "output_type": "stream",
     "text": [
      "1.  Insertar alumno --> En que aula quieres meter al alumno (1,2,3) --> DNI, Nombre, Apellidos\n",
      "2. Mostrar alumnos colegio --> Todos los alumnos del colegio por aula\n",
      "3. Mostrar alumno aula --> De que aula queremos mostrar los alumnos\n",
      "4. Buscar alumno --> Preguntar DNI --> En que aula se encuentra el alumno del colegio, sino se encuentra al alumno mostrar la pantalla.\n",
      "5. Salir\n"
     ]
    },
    {
     "name": "stdin",
     "output_type": "stream",
     "text": [
      "Introduce el aula correspondiente 2\n"
     ]
    },
    {
     "name": "stdout",
     "output_type": "stream",
     "text": [
      "El aula introducida no es correcta \n",
      "El aula introducida no es correcta \n"
     ]
    },
    {
     "name": "stdin",
     "output_type": "stream",
     "text": [
      "Seleccione una opcion:  2\n"
     ]
    },
    {
     "name": "stdout",
     "output_type": "stream",
     "text": [
      "1.  Insertar alumno --> En que aula quieres meter al alumno (1,2,3) --> DNI, Nombre, Apellidos\n",
      "2. Mostrar alumnos colegio --> Todos los alumnos del colegio por aula\n",
      "3. Mostrar alumno aula --> De que aula queremos mostrar los alumnos\n",
      "4. Buscar alumno --> Preguntar DNI --> En que aula se encuentra el alumno del colegio, sino se encuentra al alumno mostrar la pantalla.\n",
      "5. Salir\n",
      "El numero de la aula es: 1 El nombre del alumno es: Aitor El apellido del alumno es: Diez\n",
      "El numero de la aula es: 1 El nombre del alumno es: Luz El apellido del alumno es: Fernandez\n"
     ]
    },
    {
     "name": "stdin",
     "output_type": "stream",
     "text": [
      "Seleccione una opcion:  3\n"
     ]
    },
    {
     "name": "stdout",
     "output_type": "stream",
     "text": [
      "1.  Insertar alumno --> En que aula quieres meter al alumno (1,2,3) --> DNI, Nombre, Apellidos\n",
      "2. Mostrar alumnos colegio --> Todos los alumnos del colegio por aula\n",
      "3. Mostrar alumno aula --> De que aula queremos mostrar los alumnos\n",
      "4. Buscar alumno --> Preguntar DNI --> En que aula se encuentra el alumno del colegio, sino se encuentra al alumno mostrar la pantalla.\n",
      "5. Salir\n"
     ]
    },
    {
     "name": "stdin",
     "output_type": "stream",
     "text": [
      "Introduce el aula correspondiente 1\n"
     ]
    },
    {
     "name": "stdout",
     "output_type": "stream",
     "text": [
      "El nombre del alumno es: Aitor El apellido del alumno es: Diez\n",
      "El nombre del alumno es: Luz El apellido del alumno es: Fernandez\n"
     ]
    },
    {
     "name": "stdin",
     "output_type": "stream",
     "text": [
      "Seleccione una opcion:  4\n"
     ]
    },
    {
     "name": "stdout",
     "output_type": "stream",
     "text": [
      "1.  Insertar alumno --> En que aula quieres meter al alumno (1,2,3) --> DNI, Nombre, Apellidos\n",
      "2. Mostrar alumnos colegio --> Todos los alumnos del colegio por aula\n",
      "3. Mostrar alumno aula --> De que aula queremos mostrar los alumnos\n",
      "4. Buscar alumno --> Preguntar DNI --> En que aula se encuentra el alumno del colegio, sino se encuentra al alumno mostrar la pantalla.\n",
      "5. Salir\n"
     ]
    },
    {
     "name": "stdin",
     "output_type": "stream",
     "text": [
      "Introduce el dni del alumno correspondiente 50256930\n"
     ]
    },
    {
     "name": "stdout",
     "output_type": "stream",
     "text": [
      "El dni introducido del alumno no es correcto \n",
      "El dni introducido del alumno no es correcto \n"
     ]
    },
    {
     "name": "stdin",
     "output_type": "stream",
     "text": [
      "Seleccione una opcion:  4\n"
     ]
    },
    {
     "name": "stdout",
     "output_type": "stream",
     "text": [
      "1.  Insertar alumno --> En que aula quieres meter al alumno (1,2,3) --> DNI, Nombre, Apellidos\n",
      "2. Mostrar alumnos colegio --> Todos los alumnos del colegio por aula\n",
      "3. Mostrar alumno aula --> De que aula queremos mostrar los alumnos\n",
      "4. Buscar alumno --> Preguntar DNI --> En que aula se encuentra el alumno del colegio, sino se encuentra al alumno mostrar la pantalla.\n",
      "5. Salir\n"
     ]
    },
    {
     "name": "stdin",
     "output_type": "stream",
     "text": [
      "Introduce el dni del alumno correspondiente 50246930\n"
     ]
    },
    {
     "name": "stdout",
     "output_type": "stream",
     "text": [
      "El dni introducido del alumno no es correcto \n",
      "El numero de la aula es: 1 El nombre del alumno es: Luz El apellido del alumno es: Fernandez\n"
     ]
    },
    {
     "name": "stdin",
     "output_type": "stream",
     "text": [
      "Seleccione una opcion:  5\n"
     ]
    },
    {
     "name": "stdout",
     "output_type": "stream",
     "text": [
      "1.  Insertar alumno --> En que aula quieres meter al alumno (1,2,3) --> DNI, Nombre, Apellidos\n",
      "2. Mostrar alumnos colegio --> Todos los alumnos del colegio por aula\n",
      "3. Mostrar alumno aula --> De que aula queremos mostrar los alumnos\n",
      "4. Buscar alumno --> Preguntar DNI --> En que aula se encuentra el alumno del colegio, sino se encuentra al alumno mostrar la pantalla.\n",
      "5. Salir\n",
      "Has seleccionado la opcion 5. Adios!\n"
     ]
    }
   ],
   "source": [
    "alumnoArray = []\n",
    "alumnos = {}\n",
    "opciones = 0\n",
    "salir = True\n",
    "\n",
    "## Funcion para insertar el alumno en el colegio\n",
    "def preguntar_alumno_aula(aula,nombre,apellidos,dni):\n",
    "    ## Inserto el aula, el nombre y apellido del alumno y su dni\n",
    "    alumnos = [aula,nombre,apellidos,dni]\n",
    "    ## Introduzco el alumno del colegio en un array\n",
    "    alumnoArray.append(alumnos)\n",
    "\n",
    "## Funcion para mostrar todos los alumnos por aula que tiene el colegio  \n",
    "def mostrar_alumno_colegio():\n",
    "    for alumn in alumnoArray: \n",
    "        ## Imprimo todo el numero del aula, los nombres y los apellidos de los alumnos del colegio\n",
    "        print(\"El numero de la aula es: \" + alumn[0] + \" El nombre del alumno es: \" + alumn[1] + \" El apellido del alumno es: \" + alumn[2])\n",
    "\n",
    "## Funcion que sirve para mostrar a todos los alumnos por el aula introducida        \n",
    "def mostrar_alumno_por_aula(aula):\n",
    "    for alumnoAula in alumnoArray:\n",
    "        ## Recojo el nombre del alumno en el array \n",
    "        nombreAlumno = alumnoAula[1]\n",
    "        ## Recojo el apellido del alumno en el array\n",
    "        apellidoAlumno = alumnoAula[2]\n",
    "        ## Condicion de que si el aula introducida corresponde al aula del colegio, si es verdad\n",
    "        if numero_aulas == alumnoAula[0]:\n",
    "            ## Imprimo el nombre y el apellido del alumno del aula introducida\n",
    "            print(\"El nombre del alumno es: \" + nombreAlumno + \" El apellido del alumno es: \" + apellidoAlumno)\n",
    "        else: ## Sino\n",
    "            ## Imprimo un mensaje de error\n",
    "            print(\"El aula introducida no es correcta \")\n",
    "## Funcion que sirve para buscar al alumno por su dni             \n",
    "def buscar_alumno_por_dni(dni):\n",
    "     for alumnoAulaDni in alumnoArray:\n",
    "        ## Recojo el aula del alumno     \n",
    "        aulaAlumnoDni = alumnoAulaDni[0]\n",
    "        ## Recojo el nombre del alumno\n",
    "        nombreAlumnoDni = alumnoAulaDni[1]\n",
    "        ## Recojo el apellido del alumno\n",
    "        apellidoAlumnoDni = alumnoAulaDni[2]\n",
    "        ## Condicion de que si el dni introducido corresponde al dni del alumno, si es verdad\n",
    "        if numeroDniAlumno == alumnoAulaDni[3]:\n",
    "            ## Imprimo el numero del aula, el nombre del alumno y el apellido del alumno\n",
    "            print(\"El numero de la aula es: \" + aulaAlumnoDni + \" El nombre del alumno es: \" + nombreAlumnoDni + \" El apellido del alumno es: \" + apellidoAlumnoDni)\n",
    "        else: ## Sino\n",
    "            ##Imprimo un mensaje de error\n",
    "            print(\"El dni introducido del alumno no es correcto \")\n",
    "## Hago un bucle para mostrar el menu\n",
    "while opciones <= 5 and salir:\n",
    "    ## Creo una variable para crear el input\n",
    "    opciones = int(input(\"Seleccione una opcion: \"))\n",
    "    print(\"1.  Insertar alumno --> En que aula quieres meter al alumno (1,2,3) --> DNI, Nombre, Apellidos\")\n",
    "    print(\"2. Mostrar alumnos colegio --> Todos los alumnos del colegio por aula\")\n",
    "    print(\"3. Mostrar alumno aula --> De que aula queremos mostrar los alumnos\")\n",
    "    print(\"4. Buscar alumno --> Preguntar DNI --> En que aula se encuentra el alumno del colegio, sino se encuentra al alumno mostrar la pantalla.\")\n",
    "    print(\"5. Salir\")\n",
    "    \n",
    "    if opciones == 1:\n",
    "        aula = input(\"En que aula quieres meter al alumno\")\n",
    "        alumnoNombre = input(\"Introduce el nombre del alumno\")\n",
    "        alumnoApellidos = input(\"Introduce el apellido del alumno\")\n",
    "        alumnoDni = input(\"Introduce el dni del alumno\")   \n",
    "        preguntar_alumno_aula(aula,alumnoNombre,alumnoApellidos,alumnoDni)\n",
    "        \n",
    "    if opciones == 2:\n",
    "        mostrar_alumno_colegio()\n",
    "            \n",
    "    if opciones == 3:\n",
    "        numero_aulas = input(\"Introduce el aula correspondiente\")\n",
    "        mostrar_alumno_por_aula(numero_aulas)\n",
    "            \n",
    "    if opciones == 4:\n",
    "        numeroDniAlumno = input(\"Introduce el dni del alumno correspondiente\")\n",
    "        buscar_alumno_por_dni(numeroDniAlumno)\n",
    "        \n",
    "    if opciones == 5:\n",
    "        print(\"Has seleccionado la opcion 5. Adios!\")\n",
    "        salir = False"
   ]
  },
  {
   "cell_type": "code",
   "execution_count": null,
   "id": "e8a97405-e2f8-40e0-8a24-613b4efd3bb4",
   "metadata": {},
   "outputs": [],
   "source": [
    "        "
   ]
  },
  {
   "cell_type": "code",
   "execution_count": null,
   "id": "055f0b89-9cd8-4854-ab47-7e16e3901fe5",
   "metadata": {},
   "outputs": [],
   "source": []
  },
  {
   "cell_type": "code",
   "execution_count": null,
   "id": "8776d2e8-2ad8-4244-99e0-80fb44a86bfe",
   "metadata": {},
   "outputs": [],
   "source": []
  }
 ],
 "metadata": {
  "kernelspec": {
   "display_name": "Python 3 (ipykernel)",
   "language": "python",
   "name": "python3"
  },
  "language_info": {
   "codemirror_mode": {
    "name": "ipython",
    "version": 3
   },
   "file_extension": ".py",
   "mimetype": "text/x-python",
   "name": "python",
   "nbconvert_exporter": "python",
   "pygments_lexer": "ipython3",
   "version": "3.9.13"
  }
 },
 "nbformat": 4,
 "nbformat_minor": 5
}
