{
 "cells": [
  {
   "cell_type": "code",
   "execution_count": null,
   "id": "65e9c56b-dd20-4b63-af46-deefb2c82f79",
   "metadata": {},
   "outputs": [],
   "source": [
    "## Ejercicio1 "
   ]
  },
  {
   "cell_type": "code",
   "execution_count": null,
   "id": "920251e1-12b4-4995-bb78-4156e1512b64",
   "metadata": {},
   "outputs": [],
   "source": [
    "Pintar menu mientras que la opcion sea diferente de 4\n",
    "\n",
    "1. Pintar cuadrado --> \"Has seleccionado la opcion 1\"\n",
    "2. Validar email --> \"Has seleccionado la opcion 2\" \n",
    "3. Insertar alumnos \n",
    "4. Salir"
   ]
  },
  {
   "cell_type": "code",
   "execution_count": 41,
   "id": "582bbbd1-4b32-4b9e-aa7a-cecd20edfa77",
   "metadata": {
    "jp-MarkdownHeadingCollapsed": true,
    "tags": []
   },
   "outputs": [
    {
     "name": "stdin",
     "output_type": "stream",
     "text": [
      "Seleccione una opcion:  2\n"
     ]
    },
    {
     "name": "stdout",
     "output_type": "stream",
     "text": [
      "1. Pintar cuadrado\n",
      "2. Validar email\n",
      "3. Insertar alumnos\n",
      "4. Salir\n",
      "Email pedro@gmail.com no es correcto\n",
      "Email francisco@re.com no es correcto\n",
      "Email pedro@fe.kaho no es correcto\n"
     ]
    },
    {
     "name": "stdin",
     "output_type": "stream",
     "text": [
      "Seleccione una opcion:  2\n"
     ]
    },
    {
     "name": "stdout",
     "output_type": "stream",
     "text": [
      "1. Pintar cuadrado\n",
      "2. Validar email\n",
      "3. Insertar alumnos\n",
      "4. Salir\n",
      "Email pedro@gmail.com no es correcto\n",
      "Email francisco@re.com no es correcto\n",
      "Email pedro@fe.kaho no es correcto\n"
     ]
    },
    {
     "ename": "KeyboardInterrupt",
     "evalue": "Interrupted by user",
     "output_type": "error",
     "traceback": [
      "\u001b[1;31m---------------------------------------------------------------------------\u001b[0m",
      "\u001b[1;31mKeyboardInterrupt\u001b[0m                         Traceback (most recent call last)",
      "\u001b[1;32m~\\AppData\\Local\\Temp\\ipykernel_16160\\3208152295.py\u001b[0m in \u001b[0;36m<module>\u001b[1;34m\u001b[0m\n\u001b[0;32m      4\u001b[0m \u001b[1;32mwhile\u001b[0m \u001b[0mopciones\u001b[0m \u001b[1;33m<=\u001b[0m \u001b[1;36m4\u001b[0m \u001b[1;32mand\u001b[0m \u001b[0msalir\u001b[0m\u001b[1;33m:\u001b[0m\u001b[1;33m\u001b[0m\u001b[1;33m\u001b[0m\u001b[0m\n\u001b[0;32m      5\u001b[0m     \u001b[1;31m## Creo una variable para crear el input\u001b[0m\u001b[1;33m\u001b[0m\u001b[1;33m\u001b[0m\u001b[0m\n\u001b[1;32m----> 6\u001b[1;33m     \u001b[0mopciones\u001b[0m \u001b[1;33m=\u001b[0m \u001b[0mint\u001b[0m\u001b[1;33m(\u001b[0m\u001b[0minput\u001b[0m\u001b[1;33m(\u001b[0m\u001b[1;34m\"Seleccione una opcion: \"\u001b[0m\u001b[1;33m)\u001b[0m\u001b[1;33m)\u001b[0m\u001b[1;33m\u001b[0m\u001b[1;33m\u001b[0m\u001b[0m\n\u001b[0m\u001b[0;32m      7\u001b[0m     \u001b[0mprint\u001b[0m\u001b[1;33m(\u001b[0m\u001b[1;34m\"1. Pintar cuadrado\"\u001b[0m\u001b[1;33m)\u001b[0m\u001b[1;33m\u001b[0m\u001b[1;33m\u001b[0m\u001b[0m\n\u001b[0;32m      8\u001b[0m     \u001b[0mprint\u001b[0m\u001b[1;33m(\u001b[0m\u001b[1;34m\"2. Validar email\"\u001b[0m\u001b[1;33m)\u001b[0m\u001b[1;33m\u001b[0m\u001b[1;33m\u001b[0m\u001b[0m\n",
      "\u001b[1;32m~\\anaconda3\\lib\\site-packages\\ipykernel\\kernelbase.py\u001b[0m in \u001b[0;36mraw_input\u001b[1;34m(self, prompt)\u001b[0m\n\u001b[0;32m   1175\u001b[0m                 \u001b[1;34m\"raw_input was called, but this frontend does not support input requests.\"\u001b[0m\u001b[1;33m\u001b[0m\u001b[1;33m\u001b[0m\u001b[0m\n\u001b[0;32m   1176\u001b[0m             )\n\u001b[1;32m-> 1177\u001b[1;33m         return self._input_request(\n\u001b[0m\u001b[0;32m   1178\u001b[0m             \u001b[0mstr\u001b[0m\u001b[1;33m(\u001b[0m\u001b[0mprompt\u001b[0m\u001b[1;33m)\u001b[0m\u001b[1;33m,\u001b[0m\u001b[1;33m\u001b[0m\u001b[1;33m\u001b[0m\u001b[0m\n\u001b[0;32m   1179\u001b[0m             \u001b[0mself\u001b[0m\u001b[1;33m.\u001b[0m\u001b[0m_parent_ident\u001b[0m\u001b[1;33m[\u001b[0m\u001b[1;34m\"shell\"\u001b[0m\u001b[1;33m]\u001b[0m\u001b[1;33m,\u001b[0m\u001b[1;33m\u001b[0m\u001b[1;33m\u001b[0m\u001b[0m\n",
      "\u001b[1;32m~\\anaconda3\\lib\\site-packages\\ipykernel\\kernelbase.py\u001b[0m in \u001b[0;36m_input_request\u001b[1;34m(self, prompt, ident, parent, password)\u001b[0m\n\u001b[0;32m   1217\u001b[0m             \u001b[1;32mexcept\u001b[0m \u001b[0mKeyboardInterrupt\u001b[0m\u001b[1;33m:\u001b[0m\u001b[1;33m\u001b[0m\u001b[1;33m\u001b[0m\u001b[0m\n\u001b[0;32m   1218\u001b[0m                 \u001b[1;31m# re-raise KeyboardInterrupt, to truncate traceback\u001b[0m\u001b[1;33m\u001b[0m\u001b[1;33m\u001b[0m\u001b[0m\n\u001b[1;32m-> 1219\u001b[1;33m                 \u001b[1;32mraise\u001b[0m \u001b[0mKeyboardInterrupt\u001b[0m\u001b[1;33m(\u001b[0m\u001b[1;34m\"Interrupted by user\"\u001b[0m\u001b[1;33m)\u001b[0m \u001b[1;32mfrom\u001b[0m \u001b[1;32mNone\u001b[0m\u001b[1;33m\u001b[0m\u001b[1;33m\u001b[0m\u001b[0m\n\u001b[0m\u001b[0;32m   1220\u001b[0m             \u001b[1;32mexcept\u001b[0m \u001b[0mException\u001b[0m\u001b[1;33m:\u001b[0m\u001b[1;33m\u001b[0m\u001b[1;33m\u001b[0m\u001b[0m\n\u001b[0;32m   1221\u001b[0m                 \u001b[0mself\u001b[0m\u001b[1;33m.\u001b[0m\u001b[0mlog\u001b[0m\u001b[1;33m.\u001b[0m\u001b[0mwarning\u001b[0m\u001b[1;33m(\u001b[0m\u001b[1;34m\"Invalid Message:\"\u001b[0m\u001b[1;33m,\u001b[0m \u001b[0mexc_info\u001b[0m\u001b[1;33m=\u001b[0m\u001b[1;32mTrue\u001b[0m\u001b[1;33m)\u001b[0m\u001b[1;33m\u001b[0m\u001b[1;33m\u001b[0m\u001b[0m\n",
      "\u001b[1;31mKeyboardInterrupt\u001b[0m: Interrupted by user"
     ]
    }
   ],
   "source": [
    "opciones = 0\n",
    "salir = True\n",
    "## Hago un bucle para mostrar el menu\n",
    "while opciones <= 4 and salir:\n",
    "    ## Creo una variable para crear el input\n",
    "    opciones = int(input(\"Seleccione una opcion: \"))\n",
    "    print(\"1. Pintar cuadrado\")\n",
    "    print(\"2. Validar email\")\n",
    "    print(\"3. Insertar alumnos\")\n",
    "    print(\"4. Salir\")\n",
    "    if opciones == 1:\n",
    "        asteriscos = \"*\" \n",
    "        linea_superior = asteriscos + \" \"\n",
    "        altura = int(input(\"Introduce la altura\"))\n",
    "        for k in range(altura):\n",
    "            if k==0 or k==altura-1:\n",
    "                print(altura*(linea_superior))\n",
    "            else:\n",
    "                ##print(asteriscos, end=\"\")\n",
    "                print(asteriscos+(' '*(len(altura*(linea_superior))-3))+asteriscos)\n",
    "\n",
    "                ##cadena = \" \" * (altura-2)\n",
    "                ##print(cadena,end=\"\")\n",
    "                ##print(asteriscos)\n",
    "                \n",
    "    elif opciones == 2:\n",
    "        emails = [\"pedro@gmail.com\", \"   francisco@re.com   \", \"pedro@fe.kaho\"]\n",
    "        d = 0\n",
    "        for d in emails:\n",
    "            errores = \"\"\n",
    "            d = d.strip()\n",
    "            if d.find(\" \"):\n",
    "                errores += \"el email introducido es incorrecto porque contiene espacios en blanco \"\n",
    "            if  not d.count(\"@\") == 1:\n",
    "                errores +=\"El email introducido no es correcto porque debe contener un @\"\n",
    "            if d.split(\"@\")[-1].count(\".\") >= 2:\n",
    "                errores += \"El email introducido es correcto \"\n",
    "            if not d[ d.find(\"@\")+1 : ].find(\".\")>1: \n",
    "                errores += \"La distancia entre el arroba y el punto debe ser de dos caracteres\"\n",
    "            if len(d.split(\".\")[-1])<2 or len(d.split(\".\")[-1])>5:\n",
    "                errores += \"El subdominio del email debe estar entre 2 y 5. \"\n",
    "            if(errores == \"\"):\n",
    "                print(\"Email \"+ errores + \" es correcto\")\n",
    "            else:\n",
    "                print(\"Email \"+ errores + \" no es correcto\")\n",
    "    elif opciones == 3:\n",
    "        print(\"Has seleccionado la opcion 3\")\n",
    "    elif opciones == 4:\n",
    "        print(\"Has seleccionado la opcion 4. Adios!\")\n",
    "        salir = False\n",
    "    elif opciones > 4:\n",
    "        print(\"Otra opcion. Opcion incorrecta\")\n"
   ]
  },
  {
   "cell_type": "code",
   "execution_count": null,
   "id": "34ee2110-119d-4b0e-ac05-d4e10e43ff24",
   "metadata": {},
   "outputs": [],
   "source": []
  },
  {
   "cell_type": "markdown",
   "id": "f1b87585-246c-49b8-bc29-1bf8d27ad388",
   "metadata": {},
   "source": [
    "# "
   ]
  }
 ],
 "metadata": {
  "kernelspec": {
   "display_name": "Python 3 (ipykernel)",
   "language": "python",
   "name": "python3"
  },
  "language_info": {
   "codemirror_mode": {
    "name": "ipython",
    "version": 3
   },
   "file_extension": ".py",
   "mimetype": "text/x-python",
   "name": "python",
   "nbconvert_exporter": "python",
   "pygments_lexer": "ipython3",
   "version": "3.9.13"
  }
 },
 "nbformat": 4,
 "nbformat_minor": 5
}
