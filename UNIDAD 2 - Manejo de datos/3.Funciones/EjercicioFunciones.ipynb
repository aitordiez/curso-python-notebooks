{
 "cells": [
  {
   "cell_type": "markdown",
   "id": "ec69bfd1-8487-4829-9cf5-28dde143e6aa",
   "metadata": {},
   "source": [
    "# Ejercicio Funciones"
   ]
  },
  {
   "cell_type": "code",
   "execution_count": null,
   "id": "1cce8cd3-c4ef-4a9f-ada4-8c1b2d12de69",
   "metadata": {},
   "outputs": [],
   "source": []
  }
 ],
 "metadata": {
  "kernelspec": {
   "display_name": "Python 3 (ipykernel)",
   "language": "python",
   "name": "python3"
  },
  "language_info": {
   "codemirror_mode": {
    "name": "ipython",
    "version": 3
   },
   "file_extension": ".py",
   "mimetype": "text/x-python",
   "name": "python",
   "nbconvert_exporter": "python",
   "pygments_lexer": "ipython3",
   "version": "3.9.13"
  }
 },
 "nbformat": 4,
 "nbformat_minor": 5
}
